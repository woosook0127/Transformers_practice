{
 "cells": [
  {
   "cell_type": "markdown",
   "id": "651770ed-a911-4b3d-b3af-faab68de1cae",
   "metadata": {},
   "source": [
    "# 5. Datasets Library\n"
   ]
  },
  {
   "cell_type": "code",
   "execution_count": 3,
   "id": "2207a6bf-58aa-44a5-b5f6-09aff6638efe",
   "metadata": {},
   "outputs": [
    {
     "data": {
      "application/vnd.jupyter.widget-view+json": {
       "model_id": "a41cec3ecc41493e8f2c3a61b38496bb",
       "version_major": 2,
       "version_minor": 0
      },
      "text/plain": [
       "Generating train split: 0 examples [00:00, ? examples/s]"
      ]
     },
     "metadata": {},
     "output_type": "display_data"
    }
   ],
   "source": [
    "# Load nested format json by field parameter\n",
    "from datasets import load_dataset\n",
    "\n",
    "squad_it_dataset = load_dataset(\"json\", data_files=\"./datafolder/SQuAD/SQuAD_it-train.json\", field=\"data\")"
   ]
  },
  {
   "cell_type": "code",
   "execution_count": 4,
   "id": "67a7a06b-28a2-47be-b739-6c02406daebe",
   "metadata": {},
   "outputs": [
    {
     "data": {
      "text/plain": [
       "DatasetDict({\n",
       "    train: Dataset({\n",
       "        features: ['title', 'paragraphs'],\n",
       "        num_rows: 442\n",
       "    })\n",
       "})"
      ]
     },
     "execution_count": 4,
     "metadata": {},
     "output_type": "execute_result"
    }
   ],
   "source": [
    "squad_it_dataset"
   ]
  },
  {
   "cell_type": "code",
   "execution_count": 5,
   "id": "633a39e2-06b1-4c87-b22e-18d81bf015c3",
   "metadata": {},
   "outputs": [
    {
     "data": {
      "text/plain": [
       "{'title': 'A cappella',\n",
       " 'paragraphs': [{'context': 'A cappella[un kap? p. p. lla] (italiano per \"alla maniera della cappella\") la musica è specificamente gruppale o solista che canta senza accompagnamento strumentale, o un brano destinato ad essere eseguito in questo modo. Contrasta con la cantata, che è accompagnata dal canto. Il termine \"a cappella\" aveva originariamente lo scopo di differenziare la polifonia rinascimentale dallo stile concertato barocco.',\n",
       "   'qas': []},\n",
       "  {'context': \"Originariamente la musica cappella era usata nella musica religiosa, in particolare la musica della chiesa, nonché anasheed e zemirot. Il canto gregoriano è un esempio di canto a cappella, così come la maggior parte della musica vocale secolare rinascimentale. Il madrigale, fino al suo sviluppo nel primo barocco in forma strumentalmente accompagnata, è di solito anche a cappella. La musica ebraica e cristiana era in origine una cappella, e questa pratica è continuata sia in queste due religioni che nell' Islam.\",\n",
       "   'qas': [{'answers': [{'answer_start': 51, 'text': 'musica religiosa'}],\n",
       "     'id': '572784ba708984140094dfd5',\n",
       "     'question': 'Per quale forma di musica è stata utilizzata principalmente A cappella nei suoi primi anni?'},\n",
       "    {'answers': [{'answer_start': 261, 'text': 'Il madrigale'}],\n",
       "     'id': '572784ba708984140094dfd6',\n",
       "     'question': 'Che cosa è stato considerato parte di A cappella fino al periodo barocco?'}]},\n",
       "  {'context': 'La polifonia della musica a cappella cristiana iniziò a svilupparsi in Europa intorno alla fine del XV secolo, con composizioni di Josquin des Prez. Le prime polifonie a cappella possono avere avuto uno strumento di accompagnamento, anche se questo strumento avrebbe semplicemente raddoppiato le parti dei cantanti e non era indipendente. Con il XVI secolo la polifonia a cappella si era ulteriormente sviluppata, ma gradualmente la cantata prese il posto delle forme a cappella. La polifonia a cappella del XVI secolo, tuttavia, continuò a influenzare i compositori ecclesiastici durante questo periodo e fino ai giorni nostri. Recenti testimonianze hanno dimostrato che alcuni dei primi pezzi di Palestrina, come quello che è stato scritto per la Cappella Sistina, dovevano essere accompagnati da un organo \"raddoppiando\" alcune o tutte le voci. Questo è visto nella vita di Palestrina diventando una grande influenza su Bach, in particolare nella sopracitata Messa in B Minor. Altri compositori che utilizzavano lo stile a cappella, anche solo per il brano occasionale, furono Claudio Monteverdi e il suo capolavoro, Lagrime d\\' amante al sepolcro dell\\' amata, composto nel 1610, e Andrea Gabrieli alla sua morte scoprì molti pezzi corali, uno dei quali in stile non accompagnato. Imparando dai due compositori precedenti, Heinrich Schütz utilizzò lo stile a cappella in numerosi pezzi, tra i quali spiccavano i pezzi in stile oratorio, tradizionalmente eseguiti durante la settimana pasquale e dedicati al tema religioso di quella settimana, come la sofferenza di Cristo e la Passione. Cinque degli Historien di Schutz erano pezzi pasquali, e di questi ultimi tre, che affrontavano la passione da tre punti di vista diversi, quelli di Matteo, Luca e Giovanni, erano tutti fatti in stile cappella. Questo era un requisito quasi indispensabile per questo tipo di pezzo, e le parti della folla sono state cantate, mentre le parti soliste che erano le parti citate da Cristo o gli autori sono stati eseguiti in un plainchant.',\n",
       "   'qas': [{'answers': [{'answer_start': 131, 'text': 'Josquin des Prez'}],\n",
       "     'id': '5727876f5951b619008f8c7b',\n",
       "     'question': 'Chi era un noto compositore di musica a cappella nel XV secolo?'},\n",
       "    {'answers': [{'answer_start': 1663, 'text': 'tre'}],\n",
       "     'id': '5727876f5951b619008f8c7d',\n",
       "     'question': 'Quanti pezzi pasquali di Schutz erano in stile cappella?'},\n",
       "    {'answers': [{'answer_start': 1176, 'text': '1610'}],\n",
       "     'id': '5727876f5951b619008f8c7e',\n",
       "     'question': \"La nota composizione di A cappella di Lagrime d' amante al sepolcro dell' amata è stata scritta in quale anno?\"},\n",
       "    {'answers': [{'answer_start': 1184, 'text': 'Andrea Gabrieli'}],\n",
       "     'id': '5727876f5951b619008f8c7f',\n",
       "     'question': 'Alcune composizioni sono state trovate dopo la morte del compositore?'}]},\n",
       "  {'context': 'Nel rito bizantino della Chiesa ortodossa orientale e delle Chiese cattoliche orientali, la musica eseguita nelle liturgie è cantata esclusivamente senza accompagnamento strumentale. Il vescovo Kallistos Ware dice:\"Il servizio è cantato, anche se non ci può essere alcun coro. Nella Chiesa ortodossa oggi, come nella Chiesa primitiva, il canto non è accompagnato e la musica strumentale non si trova\". Questo comportamento a cappella nasce dall\\' interpretazione rigorosa del Salmo 150, che afferma:\"Ogni cosa che ha respirato lodare il Signore\". Lode al Signore. In linea con questa filosofia, la musika russa che iniziò ad apparire alla fine del XVII secolo, in quello che era noto come khorovïye kontsertï (concerti corali) fece un adattamento a cappella di pezzi in stile veneziano, come il trattato, Grammatika musikikiyskaya (1675), di Nikolai Diletsky.',\n",
       "   'qas': [{'answers': [{'answer_start': 688, 'text': 'khorovïye kontsertï'}],\n",
       "     'id': '572789a1708984140094e03b',\n",
       "     'question': 'Quando si è presentata la mucosa russa?'},\n",
       "    {'answers': [{'answer_start': 769, 'text': 'stile veneziano'}],\n",
       "     'id': '572789a1708984140094e03c',\n",
       "     'question': 'khorovïye kontsertï sono stati tipicamente fatti simili a ciò che pezzi?'},\n",
       "    {'answers': [{'answer_start': 841, 'text': 'Nikolai Diletsky'}],\n",
       "     'id': '572789a1708984140094e03e',\n",
       "     'question': 'Chi ha composto un popolare pezzo in stile veneziano nel 1675?'}]},\n",
       "  {'context': \"Gli attuali enti religiosi cristiani, noti per i loro servizi di culto senza accompagnamento musicale, comprendono alcune chiese presbiteriane dedicate al principio del culto regolare, vecchi battesimi regolari, primitivi, fratelli Plymouth, chiese di Cristo, vecchi fratelli battisti tedeschi, Doukhobors il rito bizantino e l' Amish, Mennoniti dell' Antico Ordine e conservatori. Alcune alte funzioni ecclesiastiche e altri eventi musicali nelle chiese liturgiche (come la Messa cattolica romana e il servizio divino luterano) possono essere una cappella, pratica che rimane dei tempi apostolici. Molti Mennoniti conducono anche alcuni o tutti i loro servizi senza strumenti. Arpa sacra, un tipo di musica popolare, è uno stile a cappella di canto religioso con note di forma, di solito cantato a cantare convenzioni.\",\n",
       "   'qas': [{'answers': [{'answer_start': 678, 'text': 'Arpa sacra'}],\n",
       "     'id': '57278b02708984140094e061',\n",
       "     'question': 'Qual è il nome dello stile religioso a cappella usato con note di forma?'},\n",
       "    {'answers': [{'answer_start': 581, 'text': 'tempi apostolici'}],\n",
       "     'id': '57278b02708984140094e062',\n",
       "     'question': 'La cappella esiste in alcune chiese liturgiche come influenza di quale epoca?'},\n",
       "    {'answers': [{'answer_start': 12, 'text': 'enti religiosi cristiani'}],\n",
       "     'id': '57278b02708984140094e063',\n",
       "     'question': \"Oggi, quale è il gruppo religioso più conosciuto per implementare l' a cappella?\"}]},\n",
       "  {'context': 'Gli strumenti hanno diviso la cristianità dalla loro introduzione nell\\' adorazione. Essi furono considerati un\\' innovazione cattolica, poco praticata fino al XVIII secolo, e vennero osteggiati vigorosamente nel culto da alcuni riformatori protestanti, tra cui Martin Lutero (1483-1546), Ulrich Zwingli, John Calvin (1509-1564) e John Wesley (1703-1791). Alexander Campbell ha fatto riferimento all\\' uso di uno strumento nel culto come \"una campana di mucca in un concerto\". In The Heart of Midlothian di Sir Walter Scott, l\\' eroina Jeanie Deans, presbiteriana scozzese, scrive al padre della situazione ecclesiastica che ha trovato in Inghilterra (in grassetto aggiunto): erano considerati un\\' innovazione cattolica.',\n",
       "   'qas': []},\n",
       "  {'context': \"Coloro che sottoscrivono questa interpretazione credono che, poiché le Scritture cristiane non contrastano mai il linguaggio strumentale con un giudizio negativo sugli strumenti, l' opposizione agli strumenti proviene invece da un' interpretazione della storia. Non c' è opposizione scritta agli strumenti musicali in nessun ambiente nel primo secolo e mezzo delle chiese cristiane (33 d. C. - 180 d. C.).\",\n",
       "   'qas': []},\n",
       "  {'context': \"Mentre il culto nel Tempio di Gerusalemme includeva strumenti musicali (2 Cronache 29:25-27), i tradizionali servizi religiosi ebraici nella Sinagoga, sia prima che dopo l' ultima distruzione del Tempio, non includevano strumenti musicali data la pratica della cantillazione scritturale. L' uso di strumenti musicali è tradizionalmente vietato il Sabbath per timore che i giocatori sarebbero tentati di riparare (o sintonizzare) i loro strumenti, che è vietato in quei giorni. (Questo divieto è stato allentato in molte riforme e in alcune congregazioni conservatrici. Allo stesso modo, quando le famiglie ebraiche e i gruppi più grandi cantano canzoni tradizionali Sabbath conosciuto come zemirot al di fuori del contesto di servizi religiosi formali, di solito lo fanno a cappella, e Bar and Bat Mitzvah celebrazioni sul Sabbath a volte dispongono di intrattenimento da parte di un ensembles cappella. Durante le Tre Settimane sono vietati gli strumenti musicali. Molti ebrei ritengono che una parte del periodo di 49 giorni del conteggio dell' omer tra Pasqua e Shavuot sia un tempo di semi-mourning e la musica strumentale non è permessa in quel periodo.\",\n",
       "   'qas': [{'answers': [{'answer_start': 347, 'text': 'Sabbath'}],\n",
       "     'id': '5727a03f3acd2414000de837',\n",
       "     'question': \"In quale giorno non è consentito l' uso di strumenti musicali?\"},\n",
       "    {'answers': [{'answer_start': 772, 'text': 'a cappella'}],\n",
       "     'id': '5727a03f3acd2414000de838',\n",
       "     'question': 'In quale stile le famiglie ebraiche cantano canzoni Sabbath?'},\n",
       "    {'answers': [{'answer_start': 1017, 'text': '49'}],\n",
       "     'id': '5727a03f3acd2414000de83a',\n",
       "     'question': 'Quanti giorni si contano tra Pasqua e Shavuot?'}]},\n",
       "  {'context': 'La divulgazione del canto ebraico si trova negli scritti del filosofo ebreo Philo, nato nel 20 a. C Tessendo insieme il pensiero ebraico e greco, Philo promosse lodi senza strumenti e insegnò che il \"canto silenzioso\" (senza nemmeno accordi vocali) era ancora meglio. Questa visione si separò dalle Scritture ebraiche, dove Israele offrì lode con strumenti per ordine di Dio stesso (2 Cronache 29:25). Lo shofar è l\\' unico strumento di tempio ancora oggi utilizzato nella sinagoga, ed è usato solo da Rosh Chodesh Elul fino alla fine di Yom Kippur.',\n",
       "   'qas': [{'answers': [{'answer_start': 76, 'text': 'Philo'}],\n",
       "     'id': '5727a4444b864d190016391a',\n",
       "     'question': 'Qual è il nome del filosofo che ha lodato la musica senza strumenti?'},\n",
       "    {'answers': [{'answer_start': 299, 'text': 'Scritture ebraiche'}],\n",
       "     'id': '5727a4444b864d190016391b',\n",
       "     'question': \"Qual è stato il punto di vista di Philo sull' assenza di strumenti?\"},\n",
       "    {'answers': [{'answer_start': 405, 'text': 'shofar'}],\n",
       "     'id': '5727a4444b864d190016391c',\n",
       "     'question': 'Qual è lo strumento che la sinagoga utilizza ancora oggi?'},\n",
       "    {'answers': [{'answer_start': 537, 'text': 'Yom Kippur'}],\n",
       "     'id': '5727a4444b864d190016391d',\n",
       "     'question': 'Lo shofar smette di essere utilizzato alla fine di quale evento ebraico?'}]},\n",
       "  {'context': \"Nel 1911, nella parte centro-occidentale degli Stati Uniti, nel 1911, fu iniziata una forte e prominente tradizione cappella da parte di F. Melius Christiansen, membro della facoltà di musica del St. Olaf College a Northfield, Minnesota. Il Coro del Collegio di S. Olaf fu fondato come un' uscita della locale chiesa luterana di S. Giovanni, dove i cristiani erano organisti e il coro era composto, almeno in parte, da studenti del vicino campus di S. Olaf. Il successo dell' ensemble è stato emulato da altri direttori regionali, e una ricca tradizione di musica corale a cappella è nata nella regione in college come Concordia College (Moorhead, Minnesota), Augustana College (Rock Island, Illinois), Wartburg College (Waverly, Iowa), Luther College (Decorah, Iowa), Gustavus Adolphus College (St. Peter, Minn) I cori variano tipicamente da 40 a 80 cantanti e sono riconosciuti per i loro sforzi di perfezionare il blend, l' intonazione, il fraseggio e l' intonazione in un grande ambiente corale. 1911.\",\n",
       "   'qas': [{'answers': [{'answer_start': 4, 'text': '1911'}],\n",
       "     'id': '5727a9504b864d19001639cc',\n",
       "     'question': 'Qual era il nome del coro F'},\n",
       "    {'answers': [{'answer_start': 840, 'text': 'da 40 a 80'}],\n",
       "     'id': '5727a9504b864d19001639cf',\n",
       "     'question': 'Quanti cantanti sono tipicamente nei cori?'}]},\n",
       "  {'context': 'Nel luglio 1943, in seguito al boicottaggio della Federazione Americana dei Musicisti da parte degli studi di registrazione americani, il gruppo vocale a cappella The Song Spinners aveva un best-seller con \"Comin\\' In On A Wing And A Prayer\". Negli anni Cinquanta diversi gruppi di registrazione, in particolare The Hi-Los e Four Freshmen, introdussero complesse armonie jazz a cappella. I cantanti del re hanno il merito di promuovere l\\' interesse per le esibizioni a cappella in piccoli gruppi negli anni\\' 60. Nel 1983 un gruppo a cappella conosciuto come The Flying Pickets aveva un Natale\\' numero uno\\' nel Regno Unito con una copertina di Yazoo\\'s (noto negli Stati Uniti come Yaz)\"Only You\". La musica cappella raggiunse un rinnovato rilievo dalla fine degli anni\\' 80 in poi, stimolata dal successo delle Top 40 registrazioni di artisti come The Manhattan Transfer, Bobby McFerrin, Huey Lewis e le News, All-4-One, The Nylons, Backstreet Boys e Boyz II Men.',\n",
       "   'qas': [{'answers': [{'answer_start': 163, 'text': 'The Song Spinners'}],\n",
       "     'id': '5727ac192ca10214002d9358',\n",
       "     'question': 'Quale gruppo di a cappella è salito alla popolarità nel 1943?'},\n",
       "    {'answers': [{'answer_start': 101,\n",
       "       'text': 'studi di registrazione americani'}],\n",
       "     'id': '5727ac192ca10214002d9359',\n",
       "     'question': 'Che cosa è stato boicottato dai musicisti americani nel 1943?'},\n",
       "    {'answers': [{'answer_start': 683, 'text': '\"Only You\"'}],\n",
       "     'id': '5727ac192ca10214002d935b',\n",
       "     'question': 'Quale canzone numero uno è stata coperta da un gruppo di a cappella nel 1983?'}]},\n",
       "  {'context': \"L' a cappella contemporanea comprende molti gruppi vocali e band che aggiungono percussioni vocali o beatboxing per creare un suono pop/rock/gospel, in alcuni casi molto simile a gruppi con strumenti. Esempi di tali gruppi professionali sono: Straight No Chaser, Pentatonix, The House Jacks, Rockapella, Mosaico e M-pact. Rimane anche una forte presenza di a cappella all' interno della musica cristiana, in quanto alcune denominazioni non usano gli strumenti durante il culto. Esempi di tali gruppi sono Take 6, Glad e Acappella. Gli arrangiamenti di musica popolare per piccoli ensemble a cappella includono tipicamente una voce che canta la melodia principale, una che canta una linea di basso ritmica, e le voci rimanenti che contribuiscono all' accompagnamento corale o polifonico.\",\n",
       "   'qas': [{'answers': [{'answer_start': 80, 'text': 'percussioni vocali'}],\n",
       "     'id': '5727ae364b864d1900163a1e',\n",
       "     'question': 'Al posto degli strumenti, cosa implementano alcuni gruppi moderni di a cappella?'},\n",
       "    {'answers': [{'answer_start': 387, 'text': 'musica cristiana'}],\n",
       "     'id': '5727ae364b864d1900163a1f',\n",
       "     'question': 'Dove a cappella mantiene ancora una forte presenza?'},\n",
       "    {'answers': [{'answer_start': 750,\n",
       "       'text': 'accompagnamento corale o polifonico'}],\n",
       "     'id': '5727ae364b864d1900163a20',\n",
       "     'question': 'In a cappella, cosa contribuiscono le voci che non contribuiscono alla voce principale o a una linea di basso?'}]},\n",
       "  {'context': \"A cappella è stata utilizzata come unica orchestrazione per opere originali di teatro musicale che hanno avuto pubblicità fuori strada (teatri di New York City con 99-500 posti a sedere) solo quattro volte. Il primo è stato l' Avenue X, inaugurato il 28 gennaio 1994 e diretto per 77 spettacoli. E' stato prodotto da Playwrights Horizons con libro di John Jiler, musica e testi di Ray Leslee. Lo stile musicale della partitura dello spettacolo era principalmente Doo-Wop, mentre la trama ruotava intorno ai cantanti del gruppo Doo-Wop degli anni Sessanta.\",\n",
       "   'qas': [{'answers': [{'answer_start': 192, 'text': 'quattro'}],\n",
       "     'id': '5727af6c3acd2414000de9a3',\n",
       "     'question': 'Quante opere di a cappella nel teatro musicale hanno avuto successo in produzioni Off-Broadway?'},\n",
       "    {'answers': [{'answer_start': 227, 'text': 'Avenue X'}],\n",
       "     'id': '5727af6c3acd2414000de9a4',\n",
       "     'question': 'Qual è stato il nome del musical a cappella che ha aperto per la prima volta il 28 gennaio 1994?'},\n",
       "    {'answers': [{'answer_start': 537, 'text': 'gli anni Sessanta'}],\n",
       "     'id': '5727af6c3acd2414000de9a5',\n",
       "     'question': 'In quale periodo di tempo si trovava Avenue X?'},\n",
       "    {'answers': [{'answer_start': 281, 'text': '77'}],\n",
       "     'id': '5727af6c3acd2414000de9a6',\n",
       "     'question': 'Qual è stato il numero finale di performance nella versione originale di Avenue X?'},\n",
       "    {'answers': [{'answer_start': 381, 'text': 'Ray Leslee'}],\n",
       "     'id': '5727af6c3acd2414000de9a7',\n",
       "     'question': 'Chi era responsabile del testo di Avenue X?'}]},\n",
       "  {'context': \"L' a cappella musicale Perfect Harmony, commedia su due gruppi di a cappella delle scuole superiori in lizza per vincere il campionato nazionale, ha fatto il suo debutto Off Broadway al Theatre Row's Acorn Theatre sulla 42esima Strada di New York City nell' ottobre 2010, dopo il successo di una corsa fuori città allo Stoneham Theatre, a Stoneham, Massachusetts. Perfetta armonia presenta la musica di successo di The Jackson 5, Pat Benatar, Billy Idol, Marvin Gaye, Scandal, Tiffany, The Romantics, The Pretenders, The Temptations, The Contours, The Commododores, Tommy James & the Shondells and The Partridge Family, ed è stato confrontato con un incrocio tra Altar Boyz e il 25 ° annuale Putnam County Spelling Belling Boyz Teatro Teatro Row's Teatro Acorn di corna.\",\n",
       "   'qas': [{'answers': [{'answer_start': 319, 'text': 'Stoneham Theatre'}],\n",
       "     'id': '5727b0c94b864d1900163a79',\n",
       "     'question': 'Perfetta armonia è stata chiamata una combinazione di due musical?'},\n",
       "    {'answers': [{'answer_start': 258, 'text': 'ottobre'}],\n",
       "     'id': '5727b0c94b864d1900163a7a',\n",
       "     'question': 'In quale mese è stato il debutto Off-Brodway di Perfect Harmony?'},\n",
       "    {'answers': [{'answer_start': 40, 'text': 'commedia'}],\n",
       "     'id': '5727b0c94b864d1900163a7b',\n",
       "     'question': 'Quale genere meglio descrive Perfect Harmony?'}]},\n",
       "  {'context': \"Il quarto musical a cappella per apparire Off-Broadway, In Transit, in anteprima il 5 ottobre 2010, è stato prodotto da Primary Stages con libri, musica e testi di Kristen Anderson-Lopez, James-Allen Ford, Russ Kaplan e Sara Wordsworth. Ambientato principalmente nel sistema della metropolitana di New York City la sua partitura presenta un mix eclettico di generi musicali (tra cui jazz, hip hop, latino, rock e country). In Transit incorpora il beat boxing vocale nei suoi contemporanei arrangiamenti a cappella attraverso l' uso di un carattere beat boxer metropolitana. Beat boxer e attore Chesney Snow ha svolto questo ruolo per la produzione di Primary Stages 2010. Secondo il sito web della mostra, nell' autunno del 2011 è prevista la riapertura di una gara commerciale aperta. Nel 2011 la produzione ha ricevuto quattro nomination al Lucille Lortel Award, tra cui le nomination a Outstanding Musical, Outer Critics Circle e Drama League, oltre a cinque nomination al Drama Desk, tra cui Outstanding Musical e vinte per Outstanding Ensemble Performance.\",\n",
       "   'qas': [{'answers': [{'answer_start': 56, 'text': 'In Transit'}],\n",
       "     'id': '5727b2003acd2414000de9f7',\n",
       "     'question': \"Qual è il nome dell' a cappella musical che ha debuttato Off-Broadway nello stesso anno della Perfect Harmony?\"},\n",
       "    {'answers': [{'answer_start': 278,\n",
       "       'text': 'la metropolitana di New York City'}],\n",
       "     'id': '5727b2003acd2414000de9f8',\n",
       "     'question': 'Dove avviene la maggior parte di In transito?'},\n",
       "    {'answers': [{'answer_start': 447, 'text': 'beat boxing'}],\n",
       "     'id': '5727b2003acd2414000de9f9',\n",
       "     'question': 'Che stile vocale a cappella è implementato in molte canzoni di In Transit?'},\n",
       "    {'answers': [{'answer_start': 821, 'text': 'quattro'}],\n",
       "     'id': '5727b2003acd2414000de9fa',\n",
       "     'question': 'Per quanti Lucille Lortel Awards è stato nominato In Transit?'},\n",
       "    {'answers': [{'answer_start': 594, 'text': 'Chesney Snow'}],\n",
       "     'id': '5727b2003acd2414000de9fb',\n",
       "     'question': \"Qual è il nome dell' attore che ha giocato il boxer beat della metropolitana?\"}]},\n",
       "  {'context': \"Barbershop musica è una delle diverse forme d' arte uniche arte americana. Le prime notizie di questo stile di musica a cappella coinvolsero gli afroamericani. I primi quartetti documentati iniziarono tutti nei barbieri. Nel 1938, si formò la prima organizzazione formale dei barbieri maschili, conosciuta come la Società per la Conservazione e l' Incoraggiamento del Barber Shop Quartetto Cantare in America (S. P. P.\",\n",
       "   'qas': [{'answers': [{'answer_start': 6, 'text': 'S'}],\n",
       "     'id': '5727b6c44b864d1900163b1e',\n",
       "     'question': 'Quali sono state le iniziali della BHS prima che cambiasse nome nel 2004?'}]},\n",
       "  {'context': \"Nel 1945, la prima organizzazione formale barbiere donna barbiere, Sweet Adelines, è stato formato. Nel 1953 Sweet Adelines divenne un' organizzazione internazionale, anche se non cambiò il suo nome in Sweet Adelines International fino al 1991. L' adesione di quasi 25.000 donne, tutte cantate in inglese, include cori nella maggior parte dei cinquanta Stati Uniti, oltre che in Australia, Canada, Inghilterra, Finlandia, Germania, Irlanda, Giappone, Nuova Zelanda, Scozia, Svezia, Galles e Paesi Bassi. Con sede centrale a Tulsa, Oklahoma, l' organizzazione comprende più di 1.200 quartetti registrati e 600 cori.\",\n",
       "   'qas': [{'answers': [{'answer_start': 67, 'text': 'Sweet Adelines'}],\n",
       "     'id': '5727b82e4b864d1900163b58',\n",
       "     'question': 'Qual è il nome della prima organizzazione di barbieri femminili?'},\n",
       "    {'answers': [{'answer_start': 239, 'text': '1991'}],\n",
       "     'id': '5727b82e4b864d1900163b59',\n",
       "     'question': 'Quando le Sweet Adelines hanno cambiato nome per riconoscere la loro portata internazionale?'},\n",
       "    {'answers': [{'answer_start': 260, 'text': 'quasi 25.000'}],\n",
       "     'id': '5727b82e4b864d1900163b5a',\n",
       "     'question': 'Quante donne sono membri della Sweet Adelines?'},\n",
       "    {'answers': [{'answer_start': 524, 'text': 'Tulsa, Oklahoma'}],\n",
       "     'id': '5727b82e4b864d1900163b5b',\n",
       "     'question': 'Dove si trova il quartier generale di Sweet Adelines?'},\n",
       "    {'answers': [{'answer_start': 104, 'text': '1953'}],\n",
       "     'id': '5727b82e4b864d1900163b5c',\n",
       "     'question': 'In quale anno gli Sweet Adelines sono diventati un gruppo internazionale?'}]},\n",
       "  {'context': \"Le ragioni della forte predominanza svedese sono spiegate dal manifold di Richard Sparks; basti dire qui che c' è una lunga tradizione, una percentuale insolitamente elevata della popolazione (il 5% è spesso citato) canta regolarmente nei cori, il regista corale svedese Eric Ericson ha avuto un enorme impatto sullo sviluppo corale di una cappella non solo in Svezia ma in tutto il mondo, e infine ci sono un gran numero di scuole primarie e secondarie molto popolari (scuole di musica).\",\n",
       "   'qas': [{'answers': [{'answer_start': 271, 'text': 'Eric Ericson'}],\n",
       "     'id': '5727ba1bff5b5019007d938e',\n",
       "     'question': \"Qual è il nome dell' uomo svedese conosciuto per essere una grande influenza per a cappella in tutto il mondo?\"},\n",
       "    {'answers': [{'answer_start': 196, 'text': '5%'}],\n",
       "     'id': '5727ba1bff5b5019007d9390',\n",
       "     'question': 'Quale parte della popolazione svedese si dedica al canto a cappella?'},\n",
       "    {'answers': [{'answer_start': 74, 'text': 'Richard Sparks'}],\n",
       "     'id': '5727ba1bff5b5019007d9391',\n",
       "     'question': \"Chi descrive le molte ragioni del forte coinvolgimento della Svezia nell' a cappella?\"}]},\n",
       "  {'context': 'Non è chiaro esattamente dove sia iniziata l\\' a cappella collegiale. La Rensselyrics dell\\' Istituto Politecnico Rensselaer (precedentemente noto come RPI Glee Club), fondato nel 1873, è forse il più antico gruppo collegiale noto a cappella. Citazione necessaria] Tuttavia il più lungo gruppo di canto continuo è probabilmente Il Whiffenpoofs della Yale University, che è stato formato nel 1909 e una volta incluso Cole Porter come membro. I gruppi di collegiate a cappella sono cresciuti durante tutto il XX secolo. Tra i gruppi storici di rilievo formatisi lungo il percorso si segnalano Tigertones dell\\' Università di Princeton (1946), The Colgate 13 dell\\' Università di Colgate (1942), Dartmouth College\\'s Aires (1946), Cornell University\\'s Cayuga\\'s Waiters (1949) e The Hangovers (1968), l\\' Università del Maine Maine Steiners (1958), i re dell\\' Università di Columbia (1949), il Jabber. A breve seguirono i gruppi a cappella di tutte le donne, spesso come parodia dei gruppi maschili: gli Smiffenpoofs del Smith College (1936), gli Shwiffs del Connecticut College (The She-Whiffenpoofs, 1944) e i Chattertocks della Brown University (1951). A cappella gruppi esplose in popolarità a partire dagli anni\\' 90, alimentato in parte da un cambiamento di stile divulgato dalla Tufts University Beelzebubs e la Boston University Dear Abbeys. Il nuovo stile utilizzava le voci per emulare i moderni strumenti rock, comprese le percussioni vocali e le\"beatboxing\". Alcune università più grandi ora hanno più gruppi. Gruppi spesso si uniscono spesso in concerti on-campus, come il Massacro di Cherry Tree di Georgetown Chimes, un festival a cappella di 3 settimane che si tiene ogni febbraio dal 1975, dove sono comparsi oltre un centinaio di gruppi collegiali, così come l\\' International Quartet Champions The Boston Common e il gruppo commerciale contemporaneo a cappella Rockapella. Gruppi co-ed hanno prodotto molti artisti emergenti e importanti, tra cui John Legend, un alumno dei Controparti dell\\' Università della Pennsylvania, e Sara Bareilles, un\\' allumna di Awaken A Cappella presso l\\' Università della California, Los Angeles.',\n",
       "   'qas': [{'answers': [{'answer_start': 150, 'text': 'RPI Glee Club'}],\n",
       "     'id': '5727bd833acd2414000deb1d',\n",
       "     'question': 'Qual è il nome precedente del più antico gruppo di a cappella college registrato?'},\n",
       "    {'answers': [{'answer_start': 414, 'text': 'Cole Porter'}],\n",
       "     'id': '5727bd833acd2414000deb1e',\n",
       "     'question': 'Quale compositore di spicco era un tempo membro di The Whiffenpoofs?'},\n",
       "    {'answers': [{'answer_start': 990,\n",
       "       'text': 'gli Smiffenpoofs del Smith College'}],\n",
       "     'id': '5727bd833acd2414000deb1f',\n",
       "     'question': 'Qual è il nome di un gruppo di capella che era una parodia di The Whiffenpoofs?'},\n",
       "    {'answers': [{'answer_start': 1954, 'text': 'John Legend'}],\n",
       "     'id': '5727bd833acd2414000deb21',\n",
       "     'question': 'Quale noto musicista era un tempo parte del college un gruppo capella The Counterparts?'}]},\n",
       "  {'context': 'A cappella sta guadagnando popolarità tra i sud asiatici con l\\' emergere di gruppi principalmente Hindi-Inglese College. Il primo gruppo di a cappella dell\\' Asia meridionale fu Penn Masala, fondato nel 1996 all\\' Università della Pennsylvania. Coordinati gruppi di a cappella dell\\' Asia meridionale stanno guadagnando popolarità. La prima cappella dell\\' Asia meridionale co-ed era Anokha, dell\\' Università del Maryland, costituita nel 2001. Inoltre, Dil se, un altro co-ed a cappella da UC Berkeley, ospita il concorso \"Anahat\" presso l\\' Università della California, Berkeley ogni anno. Maize Mirchi, il gruppo co-eded a cappella dell\\' Università del Michigan ospita \"Sa Re Ga Ma Pella\", un annuale invito a cappella sud asiatico con vari gruppi del Midwest.',\n",
       "   'qas': [{'answers': [{'answer_start': 177, 'text': 'Penn Masala'}],\n",
       "     'id': '5727bf0c3acd2414000deb4b',\n",
       "     'question': \"Chi è il nome dell' etnia di un gruppo capella fondato all' Università della Pennsylvania nel 1996?\"},\n",
       "    {'answers': [{'answer_start': 380, 'text': 'Anokha'}],\n",
       "     'id': '5727bf0c3acd2414000deb4d',\n",
       "     'question': \"Qual è il nome del primo gruppo di capella dell' Asia meridionale ad accettare uomini e donne?\"},\n",
       "    {'answers': [{'answer_start': 519, 'text': 'Anahat'}],\n",
       "     'id': '5727bf0c3acd2414000deb4e',\n",
       "     'question': \"Quale gara di capella è ospitata all' UC Berkeley?\"},\n",
       "    {'answers': [{'answer_start': 586, 'text': 'Maize Mirchi'}],\n",
       "     'id': '5727bf0c3acd2414000deb4f',\n",
       "     'question': 'Quale gruppo ospita il concorso capella \"Sa Re Ga Ma Pella\"?'}]},\n",
       "  {'context': \"Il crescente interesse per l' a cappella moderna (in particolare la collegiata a cappella) è testimoniato dalla crescita di premi come i Contemporary A Cappella Recording Awards (premiato dalla Contemporary A Cappella Society) e concorsi come il Campionato Internazionale di Collegiata A Cappella per gruppi universitari e le lotterie Harmony Sweepstakes per tutti i gruppi. Nel dicembre 2009, una nuova serie di concorso televisivo chiamato The Sing-Off in onda su NBC. La mostra ha visto la partecipazione di otto gruppi a cappella provenienti dagli Stati Uniti e da Porto Rico che hanno vinto il premio di $100.000 e un contratto di registrazione con Epic Records/Sony Music. Lo spettacolo è stato giudicato da Ben Folds, Shawn Stockman e Nicole Scherzinger ed è stato vinto da un gruppo tutto maschile di Puerto Rico chiamato Nota. Lo spettacolo è tornato per una seconda e terza stagione, vinta rispettivamente da Committed e Pentatonix.\",\n",
       "   'qas': [{'answers': [{'answer_start': 335, 'text': 'Harmony Sweepstakes'}],\n",
       "     'id': '5727c0a83acd2414000deba1',\n",
       "     'question': 'Quale popolare concorso capella non è specifico per i gruppi universitari?'},\n",
       "    {'answers': [{'answer_start': 620,\n",
       "       'text': 'un contratto di registrazione con Epic Records/Sony Music'}],\n",
       "     'id': '5727c0a83acd2414000deba2',\n",
       "     'question': 'A parte il premio monetario, cosa è stato offerto al vincitore di The Sing-Off?'},\n",
       "    {'answers': [{'answer_start': 830, 'text': 'Nota'}],\n",
       "     'id': '5727c0a83acd2414000deba3',\n",
       "     'question': 'Qual è il nome del gruppo che ha vinto The Sing-Off?'},\n",
       "    {'answers': [{'answer_start': 931, 'text': 'Pentatonix'}],\n",
       "     'id': '5727c0a83acd2414000deba4',\n",
       "     'question': \"Chi ha vinto l' ultima stagione di Sing-Off?\"},\n",
       "    {'answers': [{'answer_start': 569, 'text': 'Porto Rico'}],\n",
       "     'id': '5727c0a83acd2414000deba5',\n",
       "     'question': 'In The Sing-Off, da dove provengono i gruppi non statunitensi?'}]},\n",
       "  {'context': 'Oltre alle parole del canto, alcuni cantanti a cappella emula anche la strumentazione riproducendo i suoni strumentali con le loro corde vocali e la bocca. Uno dei primi praticanti del ventesimo secolo di questo metodo fu The Mills Brothers le cui prime registrazioni degli anni\\' 30 indicarono chiaramente nell\\' etichetta che tutta la strumentazione era fatta vocalmente. Più recentemente,\"Twilight Zone\" di 2 Unlimited è stato cantato a cappella alla strumentazione della serie televisiva commedia Tompkins Square. Un altro famoso esempio di emulazione della strumentazione invece di cantare le parole è la canzone tematica per la serie New Addams Family su Fox Family Channel (ora ABC Family). Gruppi come Vocal Sampling e Undivided emula ritmi latini a cappella. Negli anni\\' 60, i cantanti Swingle usarono le loro voci per emulare gli strumenti musicali alla musica barocca e classica. L\\' artista vocale Bobby McFerrin è famoso per la sua emulazione strumentale. Il gruppo di cappella Naturally Seven ricrea interi brani usando toni vocali per ogni strumento.',\n",
       "   'qas': [{'answers': [{'answer_start': 222, 'text': 'The Mills Brothers'}],\n",
       "     'id': '5727c2794b864d1900163ca5',\n",
       "     'question': \"Qual è il merito di un gruppo capella per essere uno dei primi ad adattare l' emulazione strumentale?\"},\n",
       "    {'answers': [{'answer_start': 862, 'text': 'musica barocca e classica'}],\n",
       "     'id': '5727c2794b864d1900163ca6',\n",
       "     'question': \"Per quali tipi di musica i cantanti Swingle hanno implementato l' emulazione strumentale?\"}]},\n",
       "  {'context': 'Gli Swingle Singers hanno usato parole senza senso per suonare come strumenti, ma è noto che producono versioni non verbali di strumenti musicali. Come gli altri gruppi, su YouTube si possono trovare esempi della loro musica. Il Beatboxing, più precisamente noto come percussioni vocali, è una tecnica utilizzata in una musica a cappella divulgata dalla comunità hip-hop, dove il rap viene spesso eseguito anche a cappella. L\\' avvento delle percussioni vocali ha aggiunto nuove dimensioni al genere a cappella ed è diventato molto diffuso negli arrangiamenti moderni. Petra Haden ha usato un registratore a quattro tracce per produrre una versione a cappella di The Who Sell Out inclusi gli strumenti e le pubblicità finte sul suo album Petra Haden Sings: The Who Sell Out nel 2005. Haden ha anche pubblicato le versioni a cappella di Journey\\'s \"Don\\' t Stop Believin\\'\",\"God Only Knows\" dei Beach Boys e \"Thriller\"di Michael Jackson. Nel 2009, Toyota ha commissionato a Haden l\\' esecuzione di tre canzoni per spot televisivi per la terza generazione Toyota Prius, tra cui una versione a cappella della canzone degli anni\\' 70 di The Bellamy Brothers \"Let Your Love Flow\".',\n",
       "   'qas': [{'answers': [{'answer_start': 268, 'text': 'percussioni vocali'}],\n",
       "     'id': '5727c4324b864d1900163cc3',\n",
       "     'question': 'Qual è un altro termine per beatboxing?'},\n",
       "    {'answers': [{'answer_start': 589,\n",
       "       'text': 'un registratore a quattro tracce'}],\n",
       "     'id': '5727c4324b864d1900163cc4',\n",
       "     'question': 'Che cosa è stato usato per fare una registrazione capella di The Who Sell Out?'},\n",
       "    {'answers': [{'answer_start': 943, 'text': 'Toyota'}],\n",
       "     'id': '5727c4324b864d1900163cc5',\n",
       "     'question': 'Che produttore di auto ha assunto Petra Haden per eseguire una canzone capella in spot pubblicitari per la loro auto?'},\n",
       "    {'answers': [{'answer_start': 173, 'text': 'YouTube'}],\n",
       "     'id': '5727c4324b864d1900163cc6',\n",
       "     'question': 'Su quale sito web è possibile ascoltare la musica di molti gruppi capella?'}]}]}"
      ]
     },
     "execution_count": 5,
     "metadata": {},
     "output_type": "execute_result"
    }
   ],
   "source": [
    "# indexing을 통한 data 살펴보기\n",
    "squad_it_dataset[\"train\"][3]\n"
   ]
  },
  {
   "cell_type": "code",
   "execution_count": 7,
   "id": "c7a18a4f-c9a8-4828-9670-1c607dc27b0c",
   "metadata": {},
   "outputs": [
    {
     "data": {
      "application/vnd.jupyter.widget-view+json": {
       "model_id": "f33d7d79fca4496eaf6daaf424252ab7",
       "version_major": 2,
       "version_minor": 0
      },
      "text/plain": [
       "Generating train split: 0 examples [00:00, ? examples/s]"
      ]
     },
     "metadata": {},
     "output_type": "display_data"
    },
    {
     "data": {
      "application/vnd.jupyter.widget-view+json": {
       "model_id": "587d618aafe24ddcb3e56ea80acb3819",
       "version_major": 2,
       "version_minor": 0
      },
      "text/plain": [
       "Generating test split: 0 examples [00:00, ? examples/s]"
      ]
     },
     "metadata": {},
     "output_type": "display_data"
    },
    {
     "data": {
      "text/plain": [
       "DatasetDict({\n",
       "    train: Dataset({\n",
       "        features: ['title', 'paragraphs'],\n",
       "        num_rows: 442\n",
       "    })\n",
       "    test: Dataset({\n",
       "        features: ['title', 'paragraphs'],\n",
       "        num_rows: 48\n",
       "    })\n",
       "})"
      ]
     },
     "execution_count": 7,
     "metadata": {},
     "output_type": "execute_result"
    }
   ],
   "source": [
    "# data_files parameter에 각 split name을 \n",
    "# 해당 집합 file명에 mapping 하는 dictionary를 지정하면 된다\n",
    "data_files = {\n",
    "    \"train\": \"./datafolder/SQuAD/SQuAD_it-train.json\",\n",
    "    \"test\": \"./datafolder/SQuAD/SQuAD_it-test.json\"\n",
    "}\n",
    "squad_it_dataset = load_dataset(\"json\", data_files=data_files, field=\"data\")\n",
    "squad_it_dataset"
   ]
  },
  {
   "cell_type": "markdown",
   "id": "fab23206-dd4a-41b0-b804-f910c7282b56",
   "metadata": {},
   "source": [
    "## 5-2. Slicing & Dicing"
   ]
  },
  {
   "cell_type": "code",
   "execution_count": 8,
   "id": "29c70df4-6ec3-4bc0-84b4-b43b3b433818",
   "metadata": {},
   "outputs": [],
   "source": [
    "# !wget \"https://archive.ics.uci.edu/ml/machine-learning-databases/00462/drugsCom_raw.zip\"\n",
    "# !unzip drugsCom_raw.zip\n",
    "from datasets import load_dataset\n",
    "data_files = {\n",
    "    \"train\": \"./datafolder/DrugReview/drugsComTrain_raw.tsv\",\n",
    "    \"test\": \"./datafolder/DrugReview/drugsComTest_raw.tsv\"\n",
    "}\n",
    "drug_dataset = load_dataset(\"csv\", data_files=data_files, delimiter=\"\\t\")"
   ]
  },
  {
   "cell_type": "code",
   "execution_count": 9,
   "id": "f2edf7c6-7581-4a16-a06e-345aea84a2af",
   "metadata": {},
   "outputs": [
    {
     "data": {
      "text/plain": [
       "{'Unnamed: 0': [87571, 178045, 80482],\n",
       " 'drugName': ['Naproxen', 'Duloxetine', 'Mobic'],\n",
       " 'condition': ['Gout, Acute', 'ibromyalgia', 'Inflammatory Conditions'],\n",
       " 'review': ['\"like the previous person mention, I&#039;m a strong believer of aleve, it works faster for my gout than the prescription meds I take. No more going to the doctor for refills.....Aleve works!\"',\n",
       "  '\"I have taken Cymbalta for about a year and a half for fibromyalgia pain. It is great\\r\\nas a pain reducer and an anti-depressant, however, the side effects outweighed \\r\\nany benefit I got from it. I had trouble with restlessness, being tired constantly,\\r\\ndizziness, dry mouth, numbness and tingling in my feet, and horrible sweating. I am\\r\\nbeing weaned off of it now. Went from 60 mg to 30mg and now to 15 mg. I will be\\r\\noff completely in about a week. The fibro pain is coming back, but I would rather deal with it than the side effects.\"',\n",
       "  '\"I have been taking Mobic for over a year with no side effects other than an elevated blood pressure.  I had severe knee and ankle pain which completely went away after taking Mobic.  I attempted to stop the medication however pain returned after a few days.\"'],\n",
       " 'rating': [9.0, 3.0, 10.0],\n",
       " 'date': ['September 2, 2015', 'November 7, 2011', 'June 5, 2013'],\n",
       " 'usefulCount': [36, 13, 128]}"
      ]
     },
     "execution_count": 9,
     "metadata": {},
     "output_type": "execute_result"
    }
   ],
   "source": [
    "# Get random samples by chaining Dataset.shuffle() , Dataset.select()\n",
    "drug_sample = drug_dataset[\"train\"].shuffle(seed=42).select(range(1000))\n",
    "drug_sample[:3]"
   ]
  },
  {
   "cell_type": "code",
   "execution_count": 10,
   "id": "d17c8af4-b431-427d-96c9-db3d1f30dfb6",
   "metadata": {},
   "outputs": [],
   "source": [
    "# Data cleaning\n",
    "for split in drug_dataset.keys():\n",
    "    assert len(drug_dataset[split]) == len(drug_dataset[split].unique(\"Unnamed: 0\"))"
   ]
  },
  {
   "cell_type": "code",
   "execution_count": 11,
   "id": "54fb4fcb-a439-4176-89f7-4b1e956d7403",
   "metadata": {},
   "outputs": [
    {
     "data": {
      "text/plain": [
       "DatasetDict({\n",
       "    train: Dataset({\n",
       "        features: ['patient_id', 'drugName', 'condition', 'review', 'rating', 'date', 'usefulCount'],\n",
       "        num_rows: 161297\n",
       "    })\n",
       "    test: Dataset({\n",
       "        features: ['patient_id', 'drugName', 'condition', 'review', 'rating', 'date', 'usefulCount'],\n",
       "        num_rows: 53766\n",
       "    })\n",
       "})"
      ]
     },
     "execution_count": 11,
     "metadata": {},
     "output_type": "execute_result"
    }
   ],
   "source": [
    "# 위에서 오류 안 났으므로 Unnamed: 0 == patient_id 임을 확인가능\n",
    "drug_dataset = drug_dataset.rename_column(\n",
    "    original_column_name=\"Unnamed: 0\",\n",
    "    new_column_name=\"patient_id\"\n",
    ")\n",
    "drug_dataset\n",
    "\n"
   ]
  },
  {
   "cell_type": "code",
   "execution_count": 15,
   "id": "11bd7665-b950-43e8-ad9e-cdbd9b59f279",
   "metadata": {},
   "outputs": [],
   "source": [
    "def lowercase_condition(ex):\n",
    "    return {\"condition\": ex[\"condition\"].lower()}\n",
    "# drug_dataset.map(lowercase_condition) <- error occured 예상됨"
   ]
  },
  {
   "cell_type": "code",
   "execution_count": 13,
   "id": "69fb4876-df4d-4799-bddf-0ee57e3a66de",
   "metadata": {},
   "outputs": [],
   "source": [
    "# def filter_nones (x):\n",
    "#     return x[\"condition\"] is not None\n",
    "# drug_dataset = drug_drug_dataset.filter(filter_nones)\n",
    "# or\n",
    "drug_dataset = drug_dataset.filter(lambda x: x[\"condition\"] is not None)"
   ]
  },
  {
   "cell_type": "code",
   "execution_count": 14,
   "id": "51b2c072-9c1f-4b43-a662-e9ff03a96442",
   "metadata": {},
   "outputs": [],
   "source": [
    "def lowercase_condition(ex):\n",
    "    return {\"condition\": ex[\"condition\"].lower()}\n",
    "drug_dataset = drug_dataset.map(lowercase_condition)"
   ]
  },
  {
   "cell_type": "code",
   "execution_count": 17,
   "id": "4be32897-e614-4cfb-b96e-aaa51c65c644",
   "metadata": {},
   "outputs": [
    {
     "data": {
      "text/plain": [
       "['left ventricular dysfunction', 'adhd', 'birth control']"
      ]
     },
     "execution_count": 17,
     "metadata": {},
     "output_type": "execute_result"
    }
   ],
   "source": [
    "drug_dataset[\"train\"][\"condition\"][:3]"
   ]
  },
  {
   "cell_type": "code",
   "execution_count": 18,
   "id": "5c0df2fc-396c-4f78-a9c4-c7ce5fdd79cc",
   "metadata": {},
   "outputs": [],
   "source": [
    "def compute_review_length(ex):\n",
    "\treturn {\"review_length\": len(ex[\"review\"].split())}"
   ]
  },
  {
   "cell_type": "code",
   "execution_count": 19,
   "id": "7213a13c-e4b8-40dd-9622-e1d3ec195a77",
   "metadata": {},
   "outputs": [
    {
     "data": {
      "text/plain": [
       "{'patient_id': 206461,\n",
       " 'drugName': 'Valsartan',\n",
       " 'condition': 'left ventricular dysfunction',\n",
       " 'review': '\"It has no side effect, I take it in combination of Bystolic 5 Mg and Fish Oil\"',\n",
       " 'rating': 9.0,\n",
       " 'date': 'May 20, 2012',\n",
       " 'usefulCount': 27,\n",
       " 'review_length': 17}"
      ]
     },
     "execution_count": 19,
     "metadata": {},
     "output_type": "execute_result"
    }
   ],
   "source": [
    "drug_dataset = drug_dataset.map(compute_review_length)\n",
    "drug_dataset[\"train\"][0]"
   ]
  },
  {
   "cell_type": "code",
   "execution_count": 20,
   "id": "d2f50a41-0870-41e6-bed8-fdb6c88da4f7",
   "metadata": {},
   "outputs": [
    {
     "data": {
      "text/plain": [
       "{'patient_id': [111469, 13653, 53602],\n",
       " 'drugName': ['Ledipasvir / sofosbuvir',\n",
       "  'Amphetamine / dextroamphetamine',\n",
       "  'Alesse'],\n",
       " 'condition': ['hepatitis c', 'adhd', 'birth control'],\n",
       " 'review': ['\"Headache\"', '\"Great\"', '\"Awesome\"'],\n",
       " 'rating': [10.0, 10.0, 10.0],\n",
       " 'date': ['February 3, 2015', 'October 20, 2009', 'November 23, 2015'],\n",
       " 'usefulCount': [41, 3, 0],\n",
       " 'review_length': [1, 1, 1]}"
      ]
     },
     "execution_count": 20,
     "metadata": {},
     "output_type": "execute_result"
    }
   ],
   "source": [
    "drug_dataset[\"train\"].sort(\"review_length\")[:3]"
   ]
  },
  {
   "cell_type": "code",
   "execution_count": null,
   "id": "ff940731-f954-460a-b8c8-b91633f8cc5b",
   "metadata": {},
   "outputs": [],
   "source": []
  }
 ],
 "metadata": {
  "kernelspec": {
   "display_name": "whisper_kor",
   "language": "python",
   "name": "whisper_kor"
  },
  "language_info": {
   "codemirror_mode": {
    "name": "ipython",
    "version": 3
   },
   "file_extension": ".py",
   "mimetype": "text/x-python",
   "name": "python",
   "nbconvert_exporter": "python",
   "pygments_lexer": "ipython3",
   "version": "3.9.19"
  }
 },
 "nbformat": 4,
 "nbformat_minor": 5
}
