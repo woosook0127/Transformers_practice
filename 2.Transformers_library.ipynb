{
 "cells": [
  {
   "cell_type": "markdown",
   "id": "51cf646c-456a-4410-adc2-d0bf621c315e",
   "metadata": {},
   "source": [
    "# 2. Transformers Library\n",
    "### 2-1. Pipeline 내부 실행과정 "
   ]
  },
  {
   "cell_type": "markdown",
   "id": "3f772922-c0a0-4f6c-be0c-c966cdecd7dc",
   "metadata": {},
   "source": [
    "- Tokenizer > Model > Post processing\n",
    "#### Tokenizer\n",
    "    1. input을 token으로 분할\n",
    "    2. 각 token을 integer로 mapping\n",
    "    3. 모델에 유용할 수 있는 additional inputs 추가\n",
    "#### Preprocessing"
   ]
  },
  {
   "cell_type": "code",
   "execution_count": 2,
   "id": "6b50da2d-7ea2-4eca-b337-aac98df24fc8",
   "metadata": {},
   "outputs": [],
   "source": [
    "# Create Tokenizer\n",
    "# tokenizer에 문장을 입력해 모델에 바로 전달할 수 있는 python dictionary정보를 구할 수 있다\n",
    "from transformers import AutoTokenizer\n",
    "\n",
    "checkpoint = \"distilbert-base-uncased-finetuned-sst-2-english\"\n",
    "tokenizer = AutoTokenizer.from_pretrained(checkpoint)"
   ]
  },
  {
   "cell_type": "code",
   "execution_count": 3,
   "id": "41156f3f-c141-438e-bbc4-718ab55408be",
   "metadata": {},
   "outputs": [
    {
     "name": "stdout",
     "output_type": "stream",
     "text": [
      "{'input_ids': tensor([[  101,  1045,  1005,  2310,  2042,  3403,  2005,  1037, 17662,  2227,\n",
      "          2607,  2026,  2878,  2166,  1012,   102],\n",
      "        [  101,  1045,  5223,  2023,  2061,  2172,   102,     0,     0,     0,\n",
      "             0,     0,     0,     0,     0,     0]]), 'attention_mask': tensor([[1, 1, 1, 1, 1, 1, 1, 1, 1, 1, 1, 1, 1, 1, 1, 1],\n",
      "        [1, 1, 1, 1, 1, 1, 1, 0, 0, 0, 0, 0, 0, 0, 0, 0]])}\n"
     ]
    }
   ],
   "source": [
    "# 단일 문장 list를 toknizer함수로 전달, output tensor 유형 지정\n",
    "raw_inputs = [\"I've been waiting for a Hugging Face course my whole life.\",\n",
    "\t\t\t  \"I hate this so much\"]\n",
    "inputs = tokenizer(raw_inputs, padding=True, truncation=True, return_tensors=\"pt\")\n",
    "print(inputs)"
   ]
  },
  {
   "cell_type": "code",
   "execution_count": 4,
   "id": "99082c41-2ec3-43c2-9356-b3809ea325f0",
   "metadata": {},
   "outputs": [
    {
     "name": "stderr",
     "output_type": "stream",
     "text": [
      "huggingface/tokenizers: The current process just got forked, after parallelism has already been used. Disabling parallelism to avoid deadlocks...\n",
      "To disable this warning, you can either:\n",
      "\t- Avoid using `tokenizers` before the fork if possible\n",
      "\t- Explicitly set the environment variable TOKENIZERS_PARALLELISM=(true | false)\n",
      "huggingface/tokenizers: The current process just got forked, after parallelism has already been used. Disabling parallelism to avoid deadlocks...\n",
      "To disable this warning, you can either:\n",
      "\t- Avoid using `tokenizers` before the fork if possible\n",
      "\t- Explicitly set the environment variable TOKENIZERS_PARALLELISM=(true | false)\n"
     ]
    }
   ],
   "source": [
    "# 위 checkpoint로 훈련된 model load\n",
    "from transformers import AutoModel\n",
    "\n",
    "checkpoint = \"distilbert-base-uncased-finetuned-sst-2-english\"\n",
    "# from_pretrained: pipeline을 사용한 것과 동일한 checkpoint를 다운로드 하고 모델을 instance화 한다\n",
    "model = AutoModel.from_pretrained(checkpoint)"
   ]
  },
  {
   "cell_type": "code",
   "execution_count": 9,
   "id": "e3f430f9-cb8f-4ebc-afb7-0c46847aaf80",
   "metadata": {},
   "outputs": [
    {
     "name": "stdout",
     "output_type": "stream",
     "text": [
      "output: torch.Size([2, 16, 768]) == (Batch Size, Input Sequence len, Hidden Size)\n"
     ]
    }
   ],
   "source": [
    "# output= high-dimensional vector.\n",
    "# (Batch size, Sequence length, Hidden size)\n",
    "\n",
    "outputs = model(**inputs) # **: dictionary 형태로 파라미터 개수를 지정하지 않고 전달\n",
    "print(f\"output: {outputs.last_hidden_state.shape} == (Batch Size, Input Sequence len, Hidden Size)\")\n"
   ]
  },
  {
   "cell_type": "code",
   "execution_count": 10,
   "id": "a69c400c-272e-4dd4-8a58-66255d286327",
   "metadata": {},
   "outputs": [
    {
     "data": {
      "text/plain": [
       "BaseModelOutput(last_hidden_state=tensor([[[-0.0308,  0.1668,  0.6030,  ...,  0.0668,  0.5981, -0.1910],\n",
       "         [ 0.4810,  0.4916,  0.1850,  ...,  0.1947,  0.8521, -0.1492],\n",
       "         [ 0.9573,  0.1291,  0.3315,  ...,  0.4574,  0.0402, -0.8591],\n",
       "         ...,\n",
       "         [ 0.4769,  0.4884,  0.2280,  ..., -0.0569,  0.6654, -0.1550],\n",
       "         [ 0.8315,  0.1056,  0.2724,  ...,  0.6057,  0.1320, -0.8378],\n",
       "         [ 0.2346,  0.1887,  0.2689,  ...,  0.4420,  0.6957, -0.4821]],\n",
       "\n",
       "        [[-0.3088,  0.7332, -0.1860,  ..., -0.1305, -0.9360, -0.0433],\n",
       "         [-0.3340,  0.9830, -0.0946,  ..., -0.3825, -0.6176,  0.2008],\n",
       "         [-0.1687,  0.8781, -0.1117,  ..., -0.2380, -0.7790,  0.0935],\n",
       "         ...,\n",
       "         [-0.3047,  0.7850, -0.2043,  ..., -0.1101, -0.7665, -0.0563],\n",
       "         [-0.4014,  0.8999, -0.2245,  ..., -0.1877, -0.6910,  0.0329],\n",
       "         [-0.2933,  0.7947, -0.2140,  ..., -0.1002, -0.7508, -0.0623]]],\n",
       "       grad_fn=<NativeLayerNormBackward0>), hidden_states=None, attentions=None)"
      ]
     },
     "execution_count": 10,
     "metadata": {},
     "output_type": "execute_result"
    }
   ],
   "source": [
    "# 아래와 같이 dictionary처럼 key값으로 접근가능\n",
    "outputs"
   ]
  },
  {
   "cell_type": "code",
   "execution_count": 11,
   "id": "b2f2ac34-a02b-4d6c-8cd1-61adbd9cc356",
   "metadata": {},
   "outputs": [
    {
     "data": {
      "text/plain": [
       "SequenceClassifierOutput(loss=None, logits=tensor([[-3.1071,  3.2654],\n",
       "        [ 4.2141, -3.4158]], grad_fn=<AddmmBackward0>), hidden_states=None, attentions=None)"
      ]
     },
     "execution_count": 11,
     "metadata": {},
     "output_type": "execute_result"
    }
   ],
   "source": [
    "# 문장의 긍/부정 분류를 위해 시퀀스 분류 헤드가 포함된 모델 사용\n",
    "from transformers import AutoModelForSequenceClassification\n",
    "\n",
    "checkpoint = \"distilbert-base-uncased-finetuned-sst-2-english\"\n",
    "model = AutoModelForSequenceClassification.from_pretrained(checkpoint)\n",
    "outputs = model(**inputs)          \n",
    "outputs"
   ]
  },
  {
   "cell_type": "code",
   "execution_count": 12,
   "id": "effac549-6369-4d01-9754-74f0adc66f0f",
   "metadata": {},
   "outputs": [
    {
     "name": "stdout",
     "output_type": "stream",
     "text": [
      "torch.Size([2, 2])\n"
     ]
    }
   ],
   "source": [
    "# model head가 high-dimensional vector를 입력받아 저차원의 vector를 출력한다\n",
    "print(outputs.logits.shape)"
   ]
  },
  {
   "cell_type": "code",
   "execution_count": 30,
   "id": "209f85e8-d7ef-46a1-9e29-4809c3f2ffd7",
   "metadata": {},
   "outputs": [
    {
     "name": "stdout",
     "output_type": "stream",
     "text": [
      "predictions: tensor([[1.7051e-03, 9.9829e-01],\n",
      "        [9.9951e-01, 4.8549e-04]], grad_fn=<SoftmaxBackward0>)\n"
     ]
    }
   ],
   "source": [
    "# 출력 값 자체가 의미있는 것이 아니므로 Output을 확률 값으로 변환\n",
    "# logit(출력 값) -> softmax -> 확률\n",
    "import torch\n",
    "\n",
    "predictions = torch.nn.functional.softmax(outputs.logits, dim=-1)\n",
    "print(f\"predictions: {predictions}\")"
   ]
  },
  {
   "cell_type": "code",
   "execution_count": 31,
   "id": "72775416-236e-45d5-8c30-605e6a534098",
   "metadata": {},
   "outputs": [
    {
     "name": "stdout",
     "output_type": "stream",
     "text": [
      "{0: 'NEGATIVE', 1: 'POSITIVE'}\n"
     ]
    }
   ],
   "source": [
    "# 각 위치에 해당하는 label을 가져오기 위해 model.config의 id2label 값 확인\n",
    "\n",
    "print(model.config.id2label)"
   ]
  },
  {
   "cell_type": "markdown",
   "id": "dfa43981-c261-4fe4-a635-cb91d73d02b3",
   "metadata": {},
   "source": [
    "## 2-2. Model Generation & Using"
   ]
  },
  {
   "cell_type": "markdown",
   "id": "8cbfd9f9-bf71-49f6-8bdb-3e6c86245986",
   "metadata": {},
   "source": [
    "#### 2-2-1. BERT Model initialization"
   ]
  },
  {
   "cell_type": "code",
   "execution_count": 38,
   "id": "34945b34-5fae-4cab-81ef-77e94d327710",
   "metadata": {},
   "outputs": [
    {
     "name": "stdout",
     "output_type": "stream",
     "text": [
      "BertConfig {\n",
      "  \"attention_probs_dropout_prob\": 0.1,\n",
      "  \"classifier_dropout\": null,\n",
      "  \"hidden_act\": \"gelu\",\n",
      "  \"hidden_dropout_prob\": 0.1,\n",
      "  \"hidden_size\": 768,\n",
      "  \"initializer_range\": 0.02,\n",
      "  \"intermediate_size\": 3072,\n",
      "  \"layer_norm_eps\": 1e-12,\n",
      "  \"max_position_embeddings\": 512,\n",
      "  \"model_type\": \"bert\",\n",
      "  \"num_attention_heads\": 12,\n",
      "  \"num_hidden_layers\": 12,\n",
      "  \"pad_token_id\": 0,\n",
      "  \"position_embedding_type\": \"absolute\",\n",
      "  \"transformers_version\": \"4.41.2\",\n",
      "  \"type_vocab_size\": 2,\n",
      "  \"use_cache\": true,\n",
      "  \"vocab_size\": 30522\n",
      "}\n",
      "\n"
     ]
    }
   ],
   "source": [
    "# Configuration 객체 load\n",
    "from transformers import BertConfig, BertModel\n",
    "\n",
    "# load configuration itself\n",
    "config = BertConfig()\n",
    "\n",
    "# 해당 config model generation\n",
    "model = BertModel(config)\n",
    "print (config)\n",
    "\n",
    "# 이 상태의 model을 사용하면 출력이 엉망이다."
   ]
  },
  {
   "cell_type": "code",
   "execution_count": 39,
   "id": "f18cbaa2-ab33-45ba-a2a7-95fa565a5d66",
   "metadata": {},
   "outputs": [],
   "source": [
    "# 따라서 이미 사전 학습된 Transformer model을 load 하자\n",
    "from transformers import BertModel\n",
    "\n",
    "model = BertModel.from_pretrained(\"bert-base-cased\")"
   ]
  },
  {
   "cell_type": "code",
   "execution_count": 40,
   "id": "63be6821-894c-4782-946e-11cb2f743bf3",
   "metadata": {},
   "outputs": [],
   "source": [
    "model.save_pretrained(\"saved_models/\")"
   ]
  },
  {
   "cell_type": "code",
   "execution_count": 41,
   "id": "8bfb16f1-df80-4b75-b061-a6a1eca4e962",
   "metadata": {},
   "outputs": [
    {
     "name": "stderr",
     "output_type": "stream",
     "text": [
      "huggingface/tokenizers: The current process just got forked, after parallelism has already been used. Disabling parallelism to avoid deadlocks...\n",
      "To disable this warning, you can either:\n",
      "\t- Avoid using `tokenizers` before the fork if possible\n",
      "\t- Explicitly set the environment variable TOKENIZERS_PARALLELISM=(true | false)\n"
     ]
    },
    {
     "name": "stdout",
     "output_type": "stream",
     "text": [
      "config.json  model.safetensors\n"
     ]
    }
   ],
   "source": [
    "!ls saved_models\n",
    "# confin.json file: model architecture를 구축하는 데 필요한 다양한 속성,\n",
    "# some metadata(checkpoint 구축한 출처, 마지막으 저장할 때 사용하던 library version emd)가 저장됨"
   ]
  },
  {
   "cell_type": "code",
   "execution_count": 42,
   "id": "983c30e9-74cb-4bfa-b9c9-ff4a2d4731c7",
   "metadata": {},
   "outputs": [
    {
     "name": "stdout",
     "output_type": "stream",
     "text": [
      "{'input_ids': tensor([[ 101, 7592,  999,  102],\n",
      "        [ 101, 4658, 1012,  102],\n",
      "        [ 101, 3835,  999,  102]]), 'attention_mask': tensor([[1, 1, 1, 1],\n",
      "        [1, 1, 1, 1],\n",
      "        [1, 1, 1, 1]])}\n"
     ]
    }
   ],
   "source": [
    "# Create Tokenizer\n",
    "from transformers import AutoTokenizer\n",
    "checkpoint = \"distilbert-base-uncased-finetuned-sst-2-english\"\n",
    "tokenizer = AutoTokenizer.from_pretrained(checkpoint)\n",
    "\n",
    "sequences = [\"Hello!\", \"Cool.\", \"Nice!\"]\n",
    "inputs = tokenizer(sequences, padding=True, truncation=True, return_tensors=\"pt\")\n",
    "print(inputs)"
   ]
  },
  {
   "cell_type": "code",
   "execution_count": 45,
   "id": "01c607de-5cce-450b-8b01-862ac4f2b790",
   "metadata": {},
   "outputs": [
    {
     "data": {
      "text/plain": [
       "tensor([[ 101, 7592,  999,  102],\n",
       "        [ 101, 4658, 1012,  102],\n",
       "        [ 101, 3835,  999,  102]])"
      ]
     },
     "execution_count": 45,
     "metadata": {},
     "output_type": "execute_result"
    }
   ],
   "source": [
    "encoded_inputs = tokenizer(sequences)\n",
    "print(encoded_inputs)"
   ]
  },
  {
   "cell_type": "code",
   "execution_count": 49,
   "id": "55c555bb-91ea-4afd-9e68-cc3220f28988",
   "metadata": {},
   "outputs": [
    {
     "name": "stdout",
     "output_type": "stream",
     "text": [
      "output's keys: odict_keys(['last_hidden_state', 'pooler_output'])\n"
     ]
    }
   ],
   "source": [
    "model_inputs = torch.tensor(encoded_inputs['input_ids'])\n",
    "output = model(model_inputs)\n",
    "print(f\"output's keys: {output.keys()}\")"
   ]
  },
  {
   "cell_type": "code",
   "execution_count": 50,
   "id": "0c4e24bb-7264-4c43-a076-c616e088e6f6",
   "metadata": {},
   "outputs": [
    {
     "name": "stdout",
     "output_type": "stream",
     "text": [
      "tensor(0.9860, grad_fn=<SumBackward1>)\n",
      "tensor(0.9899, grad_fn=<SumBackward1>)\n",
      "tensor(0.9891, grad_fn=<SumBackward1>)\n"
     ]
    }
   ],
   "source": [
    "pop = output['pooler_output']\n",
    "\n",
    "from torch import nn\n",
    "cos = nn.CosineSimilarity(dim=-1, eps=1e-6)\n",
    "\n",
    "print(cos(pop[0], pop[1]))\n",
    "print(cos(pop[2], pop[1]))\n",
    "print(cos(pop[2], pop[0]))"
   ]
  },
  {
   "cell_type": "markdown",
   "id": "b8f625ea-0520-4122-98cc-9aa16771a0bf",
   "metadata": {},
   "source": [
    "## 2-3. Tokenizer\n",
    "#### 2-3-1. Tokenization"
   ]
  },
  {
   "cell_type": "code",
   "execution_count": 19,
   "id": "453e52d6-cedf-4a3a-8b2a-8443c2426c44",
   "metadata": {},
   "outputs": [
    {
     "name": "stdout",
     "output_type": "stream",
     "text": [
      "['Jim', 'Henson', 'was', 'a', 'puppeteer']\n"
     ]
    }
   ],
   "source": [
    "# python split() method\n",
    "raw_text = \"Jim Henson was a puppeteer\"\n",
    "tokenized_text = raw_text.split()\n",
    "print(tokenized_text)"
   ]
  },
  {
   "cell_type": "markdown",
   "id": "b54cda4a-f09d-4db7-a8cf-ab2ce61638a2",
   "metadata": {},
   "source": [
    "#### 2-3-2. Load & Save tokenizer"
   ]
  },
  {
   "cell_type": "code",
   "execution_count": 21,
   "id": "72dd5c5d-40fe-4507-91b9-db078586628c",
   "metadata": {},
   "outputs": [],
   "source": [
    "from transformers import BertTokenizer\n",
    "tokenizer1 = BertTokenizer.from_pretrained(\"bert-base-cased\")\n",
    "\n",
    "from transformers import AutoTokenizer\n",
    "# checkpoint 이름에 해당하는 tokenizer 가져온다\n",
    "tokenizer2 = AutoTokenizer.from_pretrained(\"bert-base-cased\")"
   ]
  },
  {
   "cell_type": "code",
   "execution_count": 22,
   "id": "becdb74a-8f5b-4753-82b5-b8d3e3a4672b",
   "metadata": {},
   "outputs": [
    {
     "data": {
      "text/plain": [
       "{'input_ids': [101, 7993, 170, 13809, 23763, 2443, 1110, 3014, 102], 'token_type_ids': [0, 0, 0, 0, 0, 0, 0, 0, 0], 'attention_mask': [1, 1, 1, 1, 1, 1, 1, 1, 1]}"
      ]
     },
     "execution_count": 22,
     "metadata": {},
     "output_type": "execute_result"
    }
   ],
   "source": [
    "# Using tokenizer\n",
    "tokenizer2(\"Using a Transformer network is simple\")"
   ]
  },
  {
   "cell_type": "code",
   "execution_count": 23,
   "id": "2444ef91-e358-4eb5-a0cb-485ae5bd5cdb",
   "metadata": {},
   "outputs": [
    {
     "data": {
      "text/plain": [
       "('saving_folder/tokenizer_config.json',\n",
       " 'saving_folder/special_tokens_map.json',\n",
       " 'saving_folder/vocab.txt',\n",
       " 'saving_folder/added_tokens.json',\n",
       " 'saving_folder/tokenizer.json')"
      ]
     },
     "execution_count": 23,
     "metadata": {},
     "output_type": "execute_result"
    }
   ],
   "source": [
    "# Save tokenizer\n",
    "tokenizer2.save_pretrained(\"saving_folder\")"
   ]
  },
  {
   "cell_type": "code",
   "execution_count": 24,
   "id": "32827226-dc85-450e-ae93-c2b0fa6c11e5",
   "metadata": {},
   "outputs": [
    {
     "name": "stdout",
     "output_type": "stream",
     "text": [
      "['Using', 'a', 'Trans', '##former', 'network', 'is', 'simple']\n"
     ]
    }
   ],
   "source": [
    "# input_ids 생성과정\n",
    "# Encoding_ tokenize : text를 token으로 분리\n",
    "from transformers import AutoTokenizer\n",
    "\n",
    "tokenizer = AutoTokenizer.from_pretrained(\"bert-base-cased\")\n",
    "\n",
    "sequence = \"Using a Transformer network is simple\"\n",
    "tokens = tokenizer.tokenize(sequence)\n",
    "\n",
    "print(tokens)"
   ]
  },
  {
   "cell_type": "code",
   "execution_count": 25,
   "id": "36340427-67ab-43ec-b027-adebe4a6bf28",
   "metadata": {},
   "outputs": [
    {
     "name": "stdout",
     "output_type": "stream",
     "text": [
      "[7993, 170, 13809, 23763, 2443, 1110, 3014]\n"
     ]
    }
   ],
   "source": [
    "# Tokens -> input IDs\n",
    "ids = tokenizer.convert_tokens_to_ids(tokens)\n",
    "\n",
    "print(ids)"
   ]
  },
  {
   "cell_type": "code",
   "execution_count": 26,
   "id": "f039f55e-7f4d-437e-a94b-12e952fcae1b",
   "metadata": {},
   "outputs": [
    {
     "name": "stdout",
     "output_type": "stream",
     "text": [
      "Using a Transformer network is simple\n"
     ]
    }
   ],
   "source": [
    "# Decoding: 읽을 수 있는 원본 문장 도출\n",
    "decoded_string = tokenizer.decode(ids)\n",
    "\n",
    "print(decoded_string)"
   ]
  },
  {
   "cell_type": "markdown",
   "id": "f11ae6f4-a018-47c6-899c-dae8aca58446",
   "metadata": {},
   "source": [
    "## 2-4. Multiple sequence handling"
   ]
  },
  {
   "cell_type": "code",
   "execution_count": 28,
   "id": "19c5359f-96af-4c7f-bba5-b3e200d9a2aa",
   "metadata": {},
   "outputs": [
    {
     "data": {
      "text/plain": [
       "SequenceClassifierOutput(loss=None, logits=tensor([[ 0.5416, -0.3122],\n",
       "        [-0.6212,  0.6812],\n",
       "        [ 0.7320, -0.3175],\n",
       "        [ 0.3401, -0.0835],\n",
       "        [ 0.1112,  0.1108],\n",
       "        [ 0.1154,  0.2029],\n",
       "        [ 0.1899,  0.1824],\n",
       "        [ 0.4792, -0.3667],\n",
       "        [ 2.3476, -1.9814],\n",
       "        [ 1.1809, -0.8643],\n",
       "        [ 0.3525,  0.0292],\n",
       "        [ 1.6505, -1.3613],\n",
       "        [-1.6671,  1.8471],\n",
       "        [ 1.0687, -0.9100]], grad_fn=<AddmmBackward0>), hidden_states=None, attentions=None)"
      ]
     },
     "execution_count": 28,
     "metadata": {},
     "output_type": "execute_result"
    }
   ],
   "source": [
    "# model input을 batch화 해보자\n",
    "import torch\n",
    "from transformers import AutoTokenizer, AutoModelForSequenceClassification\n",
    "\n",
    "checkpoint = \"distilbert-base-uncased-finetuned-sst-2-english\"\n",
    "tokenizer = AutoTokenizer.from_pretrained(checkpoint)\n",
    "model = AutoModelForSequenceClassification.from_pretrained(checkpoint)\n",
    "\n",
    "sequence = \"I've been waiting for a HuggingFace course my whole life.\"\n",
    "\n",
    "tokens = tokenizer.tokenize(sequence)\n",
    "ids = tokenizer.convert_tokens_to_ids(tokens)\n",
    "input_ids = torch.tensor(ids)\n",
    "# model(input_ids)  # this whill fail\n",
    "model(input_ids.unsqueeze(-1))"
   ]
  },
  {
   "cell_type": "code",
   "execution_count": 29,
   "id": "540d4ac5-0217-4532-8438-75e6b5c03e9e",
   "metadata": {},
   "outputs": [
    {
     "name": "stdout",
     "output_type": "stream",
     "text": [
      "{'input_ids': tensor([[  101,  1045,  1005,  2310,  2042,  3403,  2005,  1037, 17662, 12172,\n",
      "          2607,  2026,  2878,  2166,  1012,   102]]), 'attention_mask': tensor([[1, 1, 1, 1, 1, 1, 1, 1, 1, 1, 1, 1, 1, 1, 1, 1]])}\n"
     ]
    }
   ],
   "source": [
    "tokenized_inputs = tokenizer(sequence, return_tensors=\"pt\")\n",
    "print (tokenized_inputs)"
   ]
  },
  {
   "cell_type": "code",
   "execution_count": 30,
   "id": "afe0cbdc-e5f1-40a5-bfba-f25996e5b2f7",
   "metadata": {},
   "outputs": [
    {
     "name": "stdout",
     "output_type": "stream",
     "text": [
      "Input IDs:tensor([[ 1045,  1005,  2310,  2042,  3403,  2005,  1037, 17662, 12172,  2607,\n",
      "          2026,  2878,  2166,  1012]])\n",
      "Logits:SequenceClassifierOutput(loss=None, logits=tensor([[-2.7276,  2.8789]], grad_fn=<AddmmBackward0>), hidden_states=None, attentions=None)\n"
     ]
    }
   ],
   "source": [
    "# Fix error\n",
    "input_ids = torch.tensor([ids])\n",
    "print(f\"Input IDs:{input_ids}\")\n",
    "\n",
    "output = model(input_ids)\n",
    "print(f\"Logits:{output}\")"
   ]
  },
  {
   "cell_type": "code",
   "execution_count": 31,
   "id": "3dbfcde2-3817-4c49-b34f-02a0cb8796e7",
   "metadata": {},
   "outputs": [
    {
     "name": "stderr",
     "output_type": "stream",
     "text": [
      "We strongly recommend passing in an `attention_mask` since your input_ids may be padded. See https://huggingface.co/docs/transformers/troubleshooting#incorrect-output-when-padding-tokens-arent-masked.\n"
     ]
    },
    {
     "name": "stdout",
     "output_type": "stream",
     "text": [
      "tensor([[ 1.5694, -1.3895]], grad_fn=<AddmmBackward0>)\n",
      "tensor([[ 0.5803, -0.4125]], grad_fn=<AddmmBackward0>)\n",
      "tensor([[ 1.5694, -1.3895],\n",
      "        [ 1.3373, -1.2163]], grad_fn=<AddmmBackward0>)\n"
     ]
    }
   ],
   "source": [
    "# Padding\n",
    "# - 두 개의 sequence를 따로, batch로 model에 넣어보기\n",
    "# 길이 더 짧은 문장에 padding_token 추가\n",
    "model = AutoModelForSequenceClassification.from_pretrained(checkpoint)\n",
    "\n",
    "sequence1_ids = [[200,200,200]]\n",
    "sequence2_ids = [[200,200]]\n",
    "batched_ids = [\n",
    "        [200,200,200],\n",
    "        [200,200,tokenizer.pad_token_id]\n",
    "    ]\n",
    "\n",
    "print(model(torch.tensor(sequence1_ids)).logits)\n",
    "print(model(torch.tensor(sequence2_ids)).logits)\n",
    "print(model(torch.tensor(batched_ids)).logits)"
   ]
  },
  {
   "cell_type": "code",
   "execution_count": 32,
   "id": "b4d9407d-cbc3-467f-bf68-89fe8ba7f6e9",
   "metadata": {},
   "outputs": [
    {
     "name": "stdout",
     "output_type": "stream",
     "text": [
      "tensor([[ 1.5694, -1.3895],\n",
      "        [ 0.5803, -0.4125]], grad_fn=<AddmmBackward0>)\n"
     ]
    }
   ],
   "source": [
    "# attention_mask: attention layer가 padding_token을 고려하지 않기 위함\n",
    "attention_mask = [\n",
    "    [1, 1, 1],\n",
    "    [1, 1, 0],\n",
    "]\n",
    "\n",
    "outputs = model(torch.tensor(batched_ids), attention_mask=torch.tensor(attention_mask))\n",
    "print(outputs.logits)"
   ]
  },
  {
   "cell_type": "code",
   "execution_count": null,
   "id": "167b541a-4a90-4ebb-93ae-ec48e4b62477",
   "metadata": {},
   "outputs": [],
   "source": []
  }
 ],
 "metadata": {
  "kernelspec": {
   "display_name": "whisper_kor",
   "language": "python",
   "name": "whisper_kor"
  },
  "language_info": {
   "codemirror_mode": {
    "name": "ipython",
    "version": 3
   },
   "file_extension": ".py",
   "mimetype": "text/x-python",
   "name": "python",
   "nbconvert_exporter": "python",
   "pygments_lexer": "ipython3",
   "version": "3.9.19"
  }
 },
 "nbformat": 4,
 "nbformat_minor": 5
}
